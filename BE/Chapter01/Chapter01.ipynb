{
 "cells": [
  {
   "cell_type": "code",
   "execution_count": 29,
   "metadata": {},
   "outputs": [],
   "source": [
    "# tạo 2 biến a kiểu list(array) b kiểu str\n",
    "a = [1,2,3,4,6,1,5,3,2,5,7,2,34,5,6,2,34,5,7,8]\n",
    "b = '1234615325723456234578'"
   ]
  },
  {
   "cell_type": "code",
   "execution_count": 30,
   "metadata": {},
   "outputs": [
    {
     "name": "stdout",
     "output_type": "stream",
     "text": [
      "1\n",
      "2\n",
      "3\n",
      "4\n",
      "6\n",
      "1\n",
      "5\n",
      "3\n",
      "2\n",
      "5\n",
      "7\n",
      "2\n",
      "34\n",
      "5\n",
      "6\n",
      "2\n",
      "34\n",
      "5\n",
      "7\n",
      "8\n"
     ]
    }
   ],
   "source": [
    "for i in a:\n",
    "    print(i)"
   ]
  },
  {
   "cell_type": "code",
   "execution_count": 31,
   "metadata": {},
   "outputs": [
    {
     "name": "stdout",
     "output_type": "stream",
     "text": [
      "88\n"
     ]
    }
   ],
   "source": [
    "# tính tổng các giá trị trong list(int)\n",
    "sums = 0\n",
    "for i in b:\n",
    "    # print(type(i))\n",
    "    # sums = sums +i\n",
    "    sums += int(i)\n",
    "print(sums)"
   ]
  },
  {
   "cell_type": "code",
   "execution_count": 32,
   "metadata": {},
   "outputs": [
    {
     "name": "stdout",
     "output_type": "stream",
     "text": [
      "len(b)  5\n",
      "1\n",
      "2\n",
      "3\n",
      "4\n",
      "7\n",
      "17\n"
     ]
    }
   ],
   "source": [
    "# for không có if\n",
    "b = '12347'\n",
    "a = [1,2,3,4,7]\n",
    "sums = 0\n",
    "print(\"len(b) \" ,str(len(b)))\n",
    "for i in range (len(b)):\n",
    "    print(b[i])\n",
    "    sums += int(b[i])\n",
    "print(sums)"
   ]
  },
  {
   "cell_type": "code",
   "execution_count": 33,
   "metadata": {},
   "outputs": [
    {
     "name": "stdout",
     "output_type": "stream",
     "text": [
      "len(b)  5\n",
      "1\n",
      "2\n",
      "3\n",
      "4\n",
      "7\n",
      "17\n"
     ]
    }
   ],
   "source": [
    "# for có if \n",
    "b = '12347'\n",
    "a = [1,2,3,4,7]\n",
    "sums = 0\n",
    "print(\"len(b) \" ,str(len(b)))\n",
    "for i in range (len(b)):\n",
    "    print(b[i])\n",
    "    sums += int(b[i])\n",
    "print(sums)"
   ]
  },
  {
   "cell_type": "code",
   "execution_count": 34,
   "metadata": {},
   "outputs": [
    {
     "name": "stdout",
     "output_type": "stream",
     "text": [
      "if 2\n"
     ]
    }
   ],
   "source": [
    "d  = 15\n",
    "if d < 0:\n",
    "    print(\"if 1\")\n",
    "elif d > 0:\n",
    "    print(\"if 2\")\n",
    "elif d == 15:\n",
    "    print(\"if 3\")\n",
    "else:\n",
    "    print(\"không có gì hết\")\n"
   ]
  },
  {
   "cell_type": "code",
   "execution_count": 35,
   "metadata": {},
   "outputs": [
    {
     "name": "stdout",
     "output_type": "stream",
     "text": [
      "len(b)  5\n",
      "6\n"
     ]
    }
   ],
   "source": [
    "# for có if \n",
    "b = '12347'\n",
    "a = [1,2,3,4,7]\n",
    "sums = 0\n",
    "print(\"len(b) \" ,str(len(b)))\n",
    "for i in range (len(b)):\n",
    "    if int(b[i]) % 2 == 0:\n",
    "        sums += int(b[i])\n",
    "print(sums)"
   ]
  },
  {
   "cell_type": "code",
   "execution_count": 36,
   "metadata": {},
   "outputs": [
    {
     "data": {
      "text/plain": [
       "False"
      ]
     },
     "execution_count": 36,
     "metadata": {},
     "output_type": "execute_result"
    }
   ],
   "source": [
    "a = 'abcdefgh'\n",
    "\n",
    "'dc' in a"
   ]
  },
  {
   "cell_type": "code",
   "execution_count": null,
   "metadata": {},
   "outputs": [],
   "source": [
    "\n"
   ]
  },
  {
   "cell_type": "code",
   "execution_count": 37,
   "metadata": {},
   "outputs": [
    {
     "name": "stdout",
     "output_type": "stream",
     "text": [
      "<enumerate object at 0x00000154E72B7580>\n",
      "index :0: values 1\n",
      "index :1: values 2\n",
      "index :2: values 3\n",
      "index :3: values 4\n",
      "index :4: values 6\n",
      "index :5: values 2\n",
      "index :6: values 33\n",
      "index :7: values 23\n",
      "index :8: values 234\n",
      "index :9: values 67\n",
      "index :10: values 34\n",
      "index :11: values 87\n",
      "index :12: values 34\n",
      "index :13: values 12\n",
      "index :14: values 12\n"
     ]
    }
   ],
   "source": [
    "# bài làm ôn tập\n",
    "d = [1,2,3,4,6,2,33,23,234,67,34,87,34,12,12]\n",
    "# tính tổng các số chia hết cho 2 và 3\n",
    "# tính tổng các số chia hết cho 2 hoặc 3\n",
    "sums = 0\n",
    "for i in d:\n",
    "    if i%2 == 0 and i%3 == 0:\n",
    "        sums +=i\n",
    "\n",
    "sums = 0\n",
    "for i in range (len(d)):\n",
    "    if d[i]%2 == 0 or d[i]%3 == 0:\n",
    "        sums +=d[i]\n",
    "\n",
    "# \n",
    "d = [1,2,3,4,6,2,33,23,234,67,34,87,34,12,12]\n",
    "print(enumerate(d))\n",
    "for index , values  in enumerate(d):\n",
    "    print(\"index :\" + str(index) + \": values \" + str(values))\n",
    "\n"
   ]
  },
  {
   "cell_type": "code",
   "execution_count": 38,
   "metadata": {},
   "outputs": [
    {
     "name": "stdout",
     "output_type": "stream",
     "text": [
      "values 1\n",
      "values 2\n",
      "values 3\n",
      "values 4\n",
      "values 6\n",
      "values 2\n",
      "values 33\n",
      "values 23\n",
      "values 234\n",
      "values 67\n",
      "values 34\n",
      "values 87\n",
      "values 34\n",
      "values 12\n",
      "values 12\n"
     ]
    }
   ],
   "source": [
    "# trong trường hợp chi lấy giá trị sử dụng dấu _ ở vị trí index\n",
    "d = [1,2,3,4,6,2,33,23,234,67,34,87,34,12,12]\n",
    "for _ , values  in enumerate(d):\n",
    "    print(\"values \" + str(values))"
   ]
  },
  {
   "cell_type": "code",
   "execution_count": 39,
   "metadata": {},
   "outputs": [
    {
     "name": "stdout",
     "output_type": "stream",
     "text": [
      "1\n",
      "2\n",
      "3\n",
      "4\n",
      "5\n",
      "6\n",
      "7\n",
      "8\n",
      "9\n",
      "10\n",
      "11\n",
      "12\n",
      "13\n",
      "14\n",
      "15\n",
      "16\n",
      "17\n",
      "18\n",
      "19\n",
      "20\n",
      "out\n"
     ]
    }
   ],
   "source": [
    "# vòng lặp while\n",
    "\n",
    "c = 0\n",
    "while c < 20:\n",
    "    c += 1\n",
    "    print(c)\n",
    "print('out')"
   ]
  },
  {
   "cell_type": "code",
   "execution_count": 40,
   "metadata": {},
   "outputs": [],
   "source": [
    "exam = [[\"A\",4.9],[\"B\",3.2],[\"C\",2.1],[\"D\",5],[\"E\",3.5]]\n",
    "\n"
   ]
  },
  {
   "cell_type": "code",
   "execution_count": 41,
   "metadata": {},
   "outputs": [],
   "source": [
    "# !pip install pandas openpyxl"
   ]
  },
  {
   "cell_type": "code",
   "execution_count": null,
   "metadata": {},
   "outputs": [],
   "source": []
  },
  {
   "cell_type": "code",
   "execution_count": 42,
   "metadata": {},
   "outputs": [
    {
     "name": "stdout",
     "output_type": "stream",
     "text": [
      "6\n",
      "2.1\n",
      "  Sản phẩm Chất lượng XL\n",
      "0        A        4.9  A\n",
      "1        B        3.2  B\n",
      "2        C        2.1  C\n",
      "3        D        5.0  A\n",
      "4        E        3.5  B\n",
      "5                       \n"
     ]
    }
   ],
   "source": [
    "# pip install pandas, openpyxl\n",
    "import pandas as pd\n",
    "path = r'Dataframe.xlsx'  # đường dãn file tương đối\n",
    "#  đường dẫn file tuyệt đối : C:\\Users\\IT03\\Desktop\\Chapter01\\Dataframe.xlsx\n",
    "\n",
    "df = pd.read_excel (path, sheet_name='Sheet1', usecols='A:B') # lấy cột a và b\n",
    "print(len(df))\n",
    "df = df.fillna(\"\") #thay thế giá trị NaN thành \"\"\n",
    "df[\"XL\"] = \"\" #tạo cột XL trong biến df\n",
    "for i in range (len(df)): # chạy vòng lặp for qua biến df để lấy vị trí index\n",
    "    if type(df[\"Chất lượng\"][i]) != str: # kiểm tra giá trị df[\"Chất lượng\"][i] là kiểu số\n",
    "        if df[\"Chất lượng\"][i] >= 4: # kiểm tra nếu df[\"Chất lượng\"][i] >=4 thi gán df[\"XL\"][i] = \"A\"\n",
    "            df[\"XL\"][i] = \"A\" \n",
    "        elif df[\"Chất lượng\"][i] >= 3: # kiểm tra nếu df[\"Chất lượng\"][i] >=3 thi gán df[\"XL\"][i] = \"B\"\n",
    "            df[\"XL\"][i] = \"B\"\n",
    "        else: # còn lại df[\"XL\"][i] = \"C\"\n",
    "            print(df[\"Chất lượng\"][i])\n",
    "            df[\"XL\"][i] = \"C\"\n",
    "print(df) # xuất giá trị của biến df\n"
   ]
  },
  {
   "cell_type": "code",
   "execution_count": 43,
   "metadata": {},
   "outputs": [],
   "source": [
    "# dictionary của bảng gồm 2 cột: Sản phẩm, Chất lượng\n",
    "data = {\n",
    "    'Sản phẩm':['A','B','C','D','E'],\n",
    "    'Chất lượng':[4.9,3.2,2.1,5.0,3.5],\n",
    "}\n",
    "temp = []\n",
    "chatluong = data['Chất lượng']\n",
    "sp = data['Sản phẩm']\n",
    "\n",
    "for i in range(len(chatluong)):\n",
    "    if chatluong[i] >= 4:\n",
    "        temp.append('A')\n",
    "    elif data[\"Chất lượng\"][i] >= 3:\n",
    "        temp.append('B')\n",
    "    else:\n",
    "        temp.append('C')\n",
    "\n",
    "data[\"XL\"] = temp\n",
    "# tạo dataFrame và xuất ra file excel\n",
    "fs = pd.DataFrame(data=data).to_excel(\"abced.xlsx\")"
   ]
  },
  {
   "cell_type": "code",
   "execution_count": null,
   "metadata": {},
   "outputs": [],
   "source": []
  },
  {
   "cell_type": "code",
   "execution_count": 44,
   "metadata": {},
   "outputs": [],
   "source": [
    "# tạo 1 biến lưu thông tin bạn nam có tuổi lớn nhất kiểu dict ketQua = {\n",
    "# \"ten\": \"\",\n",
    "# \"tuoi\": 0,\n",
    "# \"gioitinh\": \"\"}\n",
    "# duyệt qua các phần tử trong danh sách data\n",
    "# kiểm tra dữ liệu có phải la nam hay không"
   ]
  },
  {
   "cell_type": "code",
   "execution_count": 45,
   "metadata": {},
   "outputs": [
    {
     "ename": "TypeError",
     "evalue": "string indices must be integers",
     "output_type": "error",
     "traceback": [
      "\u001b[1;31m---------------------------------------------------------------------------\u001b[0m",
      "\u001b[1;31mTypeError\u001b[0m                                 Traceback (most recent call last)",
      "\u001b[1;32mc:\\Users\\IT03\\Desktop\\GitHub\\kd-learn-f-b\\BE\\Chapter01\\Chapter01.ipynb Cell 20\u001b[0m in \u001b[0;36m8\n\u001b[0;32m      <a href='vscode-notebook-cell:/c%3A/Users/IT03/Desktop/GitHub/kd-learn-f-b/BE/Chapter01/Chapter01.ipynb#X30sZmlsZQ%3D%3D?line=0'>1</a>\u001b[0m ketQua \u001b[39m=\u001b[39m {\n\u001b[0;32m      <a href='vscode-notebook-cell:/c%3A/Users/IT03/Desktop/GitHub/kd-learn-f-b/BE/Chapter01/Chapter01.ipynb#X30sZmlsZQ%3D%3D?line=1'>2</a>\u001b[0m     \u001b[39m\"\u001b[39m\u001b[39mten\u001b[39m\u001b[39m\"\u001b[39m: \u001b[39m\"\u001b[39m\u001b[39m\"\u001b[39m,\n\u001b[0;32m      <a href='vscode-notebook-cell:/c%3A/Users/IT03/Desktop/GitHub/kd-learn-f-b/BE/Chapter01/Chapter01.ipynb#X30sZmlsZQ%3D%3D?line=2'>3</a>\u001b[0m     \u001b[39m\"\u001b[39m\u001b[39mtuoi\u001b[39m\u001b[39m\"\u001b[39m: \u001b[39m0\u001b[39m,\n\u001b[0;32m      <a href='vscode-notebook-cell:/c%3A/Users/IT03/Desktop/GitHub/kd-learn-f-b/BE/Chapter01/Chapter01.ipynb#X30sZmlsZQ%3D%3D?line=3'>4</a>\u001b[0m     \u001b[39m\"\u001b[39m\u001b[39mgioitinh\u001b[39m\u001b[39m\"\u001b[39m: \u001b[39m\"\u001b[39m\u001b[39m\"\u001b[39m\n\u001b[0;32m      <a href='vscode-notebook-cell:/c%3A/Users/IT03/Desktop/GitHub/kd-learn-f-b/BE/Chapter01/Chapter01.ipynb#X30sZmlsZQ%3D%3D?line=4'>5</a>\u001b[0m }\n\u001b[0;32m      <a href='vscode-notebook-cell:/c%3A/Users/IT03/Desktop/GitHub/kd-learn-f-b/BE/Chapter01/Chapter01.ipynb#X30sZmlsZQ%3D%3D?line=6'>7</a>\u001b[0m \u001b[39mfor\u001b[39;00m i \u001b[39min\u001b[39;00m data:\n\u001b[1;32m----> <a href='vscode-notebook-cell:/c%3A/Users/IT03/Desktop/GitHub/kd-learn-f-b/BE/Chapter01/Chapter01.ipynb#X30sZmlsZQ%3D%3D?line=7'>8</a>\u001b[0m     \u001b[39mif\u001b[39;00m i[\u001b[39m\"\u001b[39;49m\u001b[39mgioitinh\u001b[39;49m\u001b[39m\"\u001b[39;49m] \u001b[39m==\u001b[39m\u001b[39m'\u001b[39m\u001b[39mnam\u001b[39m\u001b[39m'\u001b[39m:\n\u001b[0;32m      <a href='vscode-notebook-cell:/c%3A/Users/IT03/Desktop/GitHub/kd-learn-f-b/BE/Chapter01/Chapter01.ipynb#X30sZmlsZQ%3D%3D?line=8'>9</a>\u001b[0m         \u001b[39mif\u001b[39;00m ketQua[\u001b[39m\"\u001b[39m\u001b[39mtuoi\u001b[39m\u001b[39m\"\u001b[39m] \u001b[39m>\u001b[39m i[\u001b[39m\"\u001b[39m\u001b[39mtuoi\u001b[39m\u001b[39m\"\u001b[39m]:\n\u001b[0;32m     <a href='vscode-notebook-cell:/c%3A/Users/IT03/Desktop/GitHub/kd-learn-f-b/BE/Chapter01/Chapter01.ipynb#X30sZmlsZQ%3D%3D?line=9'>10</a>\u001b[0m             ketQua \u001b[39m=\u001b[39m i\n",
      "\u001b[1;31mTypeError\u001b[0m: string indices must be integers"
     ]
    }
   ],
   "source": [
    "ketQua = {\n",
    "    \"ten\": \"\",\n",
    "    \"tuoi\": 0,\n",
    "    \"gioitinh\": \"\"\n",
    "}\n",
    "\n",
    "for i in data:\n",
    "    if i[\"gioitinh\"] =='nam':\n",
    "        if ketQua[\"tuoi\"] > i[\"tuoi\"]:\n",
    "            ketQua = i\n",
    "            # break\n",
    "print(ketQua)"
   ]
  },
  {
   "cell_type": "code",
   "execution_count": 1,
   "metadata": {},
   "outputs": [
    {
     "name": "stdout",
     "output_type": "stream",
     "text": [
      "{'ten': 'Nguyễn văn b', 'tuoi': 22, 'gioitinh': 'nữ'}\n"
     ]
    }
   ],
   "source": [
    "\n",
    "data = [\n",
    "    {\n",
    "        \"ten\": 'Nguyễn văn a',\n",
    "        'tuoi': 12,\n",
    "        'gioitinh': 'nam'\n",
    "    },{\n",
    "        \"ten\": 'Nguyễn văn b',\n",
    "        'tuoi': 22,\n",
    "        'gioitinh': 'nữ'},\n",
    "        {\n",
    "        \"ten\": 'Nguyễn văn c',\n",
    "        'tuoi': 32,\n",
    "        'gioitinh': 'nam'\n",
    "    },{\n",
    "        \"ten\": 'Nguyễn văn d',\n",
    "        'tuoi': 44,\n",
    "        'gioitinh': 'nữ'\n",
    "    },{\n",
    "        \"ten\": 'Nguyễn văn g',\n",
    "        'tuoi': 22,\n",
    "        'gioitinh': 'nữ'},\n",
    "        {\n",
    "        \"ten\": 'Nguyễn văn e',\n",
    "        'tuoi': 23,\n",
    "        'gioitinh': 'nam'\n",
    "    },{\n",
    "        \"ten\": 'Nguyễn văn h',\n",
    "        'tuoi': 22,\n",
    "        'gioitinh': 'nữ'},\n",
    "]\n",
    "# 1.Tìm 1 bạn nữ đầu tiên có tuổi là 22\n",
    "# 2.Tìm danh sách bạn nữ có tuổi là 22\n",
    "# 3.tìm 1 bạn nam có tuổi là 33 nếu không có trả về False\n",
    "ketQua = {\n",
    "    \"ten\": \"\",\n",
    "    \"tuoi\": 0,\n",
    "    \"gioitinh\": \"\"\n",
    "}\n",
    "# duyệt qua danh sách\n",
    "for i in data:\n",
    "    # tìm kiếm và so sánh dữ liệu\n",
    "    if i[\"gioitinh\"] =='nữ' and i[\"tuoi\"] == 22:\n",
    "        # gán dữ liệu và thoát vòng lặp\n",
    "        ketQua = i\n",
    "        break\n",
    "print(ketQua)"
   ]
  },
  {
   "cell_type": "code",
   "execution_count": null,
   "metadata": {},
   "outputs": [],
   "source": [
    "\"\"\"\n",
    "    Tạo 1 danh sách rỗng ketqua = []\n",
    "    Duyệt qua vòng for\n",
    "    Tìm kiếm ,so sánh nếu giống thì thêm vào kết quả bằng \n",
    "    ketqua.append(data) \n",
    "\"\"\""
   ]
  },
  {
   "cell_type": "code",
   "execution_count": 2,
   "metadata": {},
   "outputs": [
    {
     "name": "stdout",
     "output_type": "stream",
     "text": [
      "[{'ten': 'Nguyễn văn b', 'tuoi': 22, 'gioitinh': 'nữ'}, {'ten': 'Nguyễn văn g', 'tuoi': 22, 'gioitinh': 'nữ'}, {'ten': 'Nguyễn văn h', 'tuoi': 22, 'gioitinh': 'nữ'}]\n"
     ]
    }
   ],
   "source": [
    "ketQua1 = []\n",
    "for i in data:\n",
    "    if i[\"gioitinh\"] ==\"nữ\" and i[\"tuoi\"] == 22:\n",
    "        ketQua1.append(i)\n",
    "print(ketQua1)"
   ]
  },
  {
   "cell_type": "code",
   "execution_count": 3,
   "metadata": {},
   "outputs": [
    {
     "name": "stdout",
     "output_type": "stream",
     "text": [
      "False\n"
     ]
    }
   ],
   "source": [
    "ketQua2 = False\n",
    "for i in data:\n",
    "    if i[\"gioitinh\"] ==\"nam\" and i[\"tuoi\"] == 33:\n",
    "        ketQua2 = True\n",
    "print(ketQua2)"
   ]
  }
 ],
 "metadata": {
  "kernelspec": {
   "display_name": "Python 3",
   "language": "python",
   "name": "python3"
  },
  "language_info": {
   "codemirror_mode": {
    "name": "ipython",
    "version": 3
   },
   "file_extension": ".py",
   "mimetype": "text/x-python",
   "name": "python",
   "nbconvert_exporter": "python",
   "pygments_lexer": "ipython3",
   "version": "3.10.10"
  },
  "orig_nbformat": 4
 },
 "nbformat": 4,
 "nbformat_minor": 2
}
